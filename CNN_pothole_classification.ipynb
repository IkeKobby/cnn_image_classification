{
  "nbformat": 4,
  "nbformat_minor": 0,
  "metadata": {
    "colab": {
      "name": "CNN_pothole_classification.ipynb",
      "provenance": [],
      "collapsed_sections": []
    },
    "kernelspec": {
      "name": "python3",
      "display_name": "Python 3"
    },
    "language_info": {
      "name": "python"
    },
    "accelerator": "GPU"
  },
  "cells": [
    {
      "cell_type": "markdown",
      "metadata": {
        "id": "ocoSrdyA8Ceh"
      },
      "source": [
        "### CNN CLASSIFICATION PROBLEM ON ROAD WITH OR WITHOUT POTHOLE"
      ]
    },
    {
      "cell_type": "markdown",
      "metadata": {
        "id": "ZmuMtbn7k-g6"
      },
      "source": [
        "#### Getting data ready and familiarising ourselves with the data."
      ]
    },
    {
      "cell_type": "markdown",
      "metadata": {
        "id": "alXswelGlFZ5"
      },
      "source": [
        "- The data contains images of streets in South Africa that either have potholes (positive response) or do not (negative response). The data have been split into a test and train set. The training set contains 4,026 images of test set contains 1,650 images. "
      ]
    },
    {
      "cell_type": "code",
      "metadata": {
        "id": "LzsMlUFewsMj"
      },
      "source": [
        "from IPython.display import clear_output ## for clearing output of downloads made within the notebook\n",
        "\n",
        "### Basic dependencies\n",
        "import pandas as pd\n",
        "import numpy as np\n",
        "import matplotlib.pyplot as plt\n",
        "import matplotlib.image as mpimg\n",
        "import os\n",
        "import random\n",
        "\n",
        "#### For modeling\n",
        "import tensorflow as tf\n",
        "from tensorflow.keras.preprocessing.image import ImageDataGenerator"
      ],
      "execution_count": 1,
      "outputs": []
    },
    {
      "cell_type": "code",
      "metadata": {
        "id": "9ufWxdyBs41k"
      },
      "source": [
        "## We created a helper function that helped with lot of preprocessing and other utilities, We download it from this github repo and utilize\n",
        "!wget https://raw.githubusercontent.com/IkeKobby/cnn_image_classification/main/cnn_project_preprocess.py\n",
        "clear_output()"
      ],
      "execution_count": 46,
      "outputs": []
    },
    {
      "cell_type": "code",
      "metadata": {
        "id": "GDPXvfBqtJWy"
      },
      "source": [
        "### import helper functions for several use.\n",
        "from cnn_project_preprocess import * "
      ],
      "execution_count": 49,
      "outputs": []
    },
    {
      "cell_type": "code",
      "metadata": {
        "id": "GU_XgWNwsbvY"
      },
      "source": [
        "### Loading the training labels and the test IDs.\n",
        "train_labels_path = '/content/drive/MyDrive/KOBBY/ML and AI data/CNN/train_ids_labels.csv'\n",
        "test_labels_path =  '/content/drive/MyDrive/KOBBY/ML and AI data/CNN/test_ids_only.csv'"
      ],
      "execution_count": 4,
      "outputs": []
    },
    {
      "cell_type": "code",
      "metadata": {
        "id": "9kv8BAzlCiiT"
      },
      "source": [
        "#### Getting training labels and test IDs\n",
        "train_labels = get_data(train_labels_path)\n",
        "test_labels = get_data(test_labels_path)"
      ],
      "execution_count": 5,
      "outputs": []
    },
    {
      "cell_type": "code",
      "metadata": {
        "colab": {
          "base_uri": "https://localhost:8080/",
          "height": 363
        },
        "id": "ZOIbWeBJa9eM",
        "outputId": "4bf9268f-57f3-4f43-cdd0-abbc930a19eb"
      },
      "source": [
        "### View the train labels\n",
        "train_labels.head(10)"
      ],
      "execution_count": 6,
      "outputs": [
        {
          "output_type": "execute_result",
          "data": {
            "text/html": [
              "<div>\n",
              "<style scoped>\n",
              "    .dataframe tbody tr th:only-of-type {\n",
              "        vertical-align: middle;\n",
              "    }\n",
              "\n",
              "    .dataframe tbody tr th {\n",
              "        vertical-align: top;\n",
              "    }\n",
              "\n",
              "    .dataframe thead th {\n",
              "        text-align: right;\n",
              "    }\n",
              "</style>\n",
              "<table border=\"1\" class=\"dataframe\">\n",
              "  <thead>\n",
              "    <tr style=\"text-align: right;\">\n",
              "      <th></th>\n",
              "      <th>Image_ID</th>\n",
              "      <th>Label</th>\n",
              "    </tr>\n",
              "  </thead>\n",
              "  <tbody>\n",
              "    <tr>\n",
              "      <th>0</th>\n",
              "      <td>cVOfkSdqnWXUerr</td>\n",
              "      <td>0</td>\n",
              "    </tr>\n",
              "    <tr>\n",
              "      <th>1</th>\n",
              "      <td>EhnvIDPXFFjUhkR</td>\n",
              "      <td>0</td>\n",
              "    </tr>\n",
              "    <tr>\n",
              "      <th>2</th>\n",
              "      <td>tYKqoStvHsryFhS</td>\n",
              "      <td>1</td>\n",
              "    </tr>\n",
              "    <tr>\n",
              "      <th>3</th>\n",
              "      <td>eSpjlsZIwOMLmUS</td>\n",
              "      <td>1</td>\n",
              "    </tr>\n",
              "    <tr>\n",
              "      <th>4</th>\n",
              "      <td>uzxhIXjNENLyHwZ</td>\n",
              "      <td>1</td>\n",
              "    </tr>\n",
              "    <tr>\n",
              "      <th>5</th>\n",
              "      <td>hezYtxLhHStWATz</td>\n",
              "      <td>0</td>\n",
              "    </tr>\n",
              "    <tr>\n",
              "      <th>6</th>\n",
              "      <td>LcZuJysTXaSNBDe</td>\n",
              "      <td>1</td>\n",
              "    </tr>\n",
              "    <tr>\n",
              "      <th>7</th>\n",
              "      <td>RiWvALRpGwyReTK</td>\n",
              "      <td>0</td>\n",
              "    </tr>\n",
              "    <tr>\n",
              "      <th>8</th>\n",
              "      <td>kYQZTGpDvwXUZlu</td>\n",
              "      <td>0</td>\n",
              "    </tr>\n",
              "    <tr>\n",
              "      <th>9</th>\n",
              "      <td>VxXuRhwhHDvGWty</td>\n",
              "      <td>0</td>\n",
              "    </tr>\n",
              "  </tbody>\n",
              "</table>\n",
              "</div>"
            ],
            "text/plain": [
              "          Image_ID  Label\n",
              "0  cVOfkSdqnWXUerr      0\n",
              "1  EhnvIDPXFFjUhkR      0\n",
              "2  tYKqoStvHsryFhS      1\n",
              "3  eSpjlsZIwOMLmUS      1\n",
              "4  uzxhIXjNENLyHwZ      1\n",
              "5  hezYtxLhHStWATz      0\n",
              "6  LcZuJysTXaSNBDe      1\n",
              "7  RiWvALRpGwyReTK      0\n",
              "8  kYQZTGpDvwXUZlu      0\n",
              "9  VxXuRhwhHDvGWty      0"
            ]
          },
          "metadata": {
            "tags": []
          },
          "execution_count": 6
        }
      ]
    },
    {
      "cell_type": "code",
      "metadata": {
        "colab": {
          "base_uri": "https://localhost:8080/",
          "height": 363
        },
        "id": "Wz-dUVXtbDEs",
        "outputId": "f633e0fb-38db-437b-b134-af50a591d1f2"
      },
      "source": [
        "#### View the test IDS\n",
        "test_labels.head(10)"
      ],
      "execution_count": 7,
      "outputs": [
        {
          "output_type": "execute_result",
          "data": {
            "text/html": [
              "<div>\n",
              "<style scoped>\n",
              "    .dataframe tbody tr th:only-of-type {\n",
              "        vertical-align: middle;\n",
              "    }\n",
              "\n",
              "    .dataframe tbody tr th {\n",
              "        vertical-align: top;\n",
              "    }\n",
              "\n",
              "    .dataframe thead th {\n",
              "        text-align: right;\n",
              "    }\n",
              "</style>\n",
              "<table border=\"1\" class=\"dataframe\">\n",
              "  <thead>\n",
              "    <tr style=\"text-align: right;\">\n",
              "      <th></th>\n",
              "      <th>Image_ID</th>\n",
              "    </tr>\n",
              "  </thead>\n",
              "  <tbody>\n",
              "    <tr>\n",
              "      <th>0</th>\n",
              "      <td>nRhHxqLhDlJsiXc</td>\n",
              "    </tr>\n",
              "    <tr>\n",
              "      <th>1</th>\n",
              "      <td>gbSntVovxgHQrmO</td>\n",
              "    </tr>\n",
              "    <tr>\n",
              "      <th>2</th>\n",
              "      <td>nqOobGmvgEOiPms</td>\n",
              "    </tr>\n",
              "    <tr>\n",
              "      <th>3</th>\n",
              "      <td>oIkPTooLcIbZKlF</td>\n",
              "    </tr>\n",
              "    <tr>\n",
              "      <th>4</th>\n",
              "      <td>eSKxsTTJDQzkjgD</td>\n",
              "    </tr>\n",
              "    <tr>\n",
              "      <th>5</th>\n",
              "      <td>fGOKonqqErFfiuK</td>\n",
              "    </tr>\n",
              "    <tr>\n",
              "      <th>6</th>\n",
              "      <td>UZPfNzWrCgFaaNz</td>\n",
              "    </tr>\n",
              "    <tr>\n",
              "      <th>7</th>\n",
              "      <td>kvesbcrtTOohiLT</td>\n",
              "    </tr>\n",
              "    <tr>\n",
              "      <th>8</th>\n",
              "      <td>cdEZEDZaveknkKa</td>\n",
              "    </tr>\n",
              "    <tr>\n",
              "      <th>9</th>\n",
              "      <td>GaSSOeqyIktsAmW</td>\n",
              "    </tr>\n",
              "  </tbody>\n",
              "</table>\n",
              "</div>"
            ],
            "text/plain": [
              "          Image_ID\n",
              "0  nRhHxqLhDlJsiXc\n",
              "1  gbSntVovxgHQrmO\n",
              "2  nqOobGmvgEOiPms\n",
              "3  oIkPTooLcIbZKlF\n",
              "4  eSKxsTTJDQzkjgD\n",
              "5  fGOKonqqErFfiuK\n",
              "6  UZPfNzWrCgFaaNz\n",
              "7  kvesbcrtTOohiLT\n",
              "8  cdEZEDZaveknkKa\n",
              "9  GaSSOeqyIktsAmW"
            ]
          },
          "metadata": {
            "tags": []
          },
          "execution_count": 7
        }
      ]
    },
    {
      "cell_type": "code",
      "metadata": {
        "colab": {
          "base_uri": "https://localhost:8080/"
        },
        "id": "AtRk-5B3D3lz",
        "outputId": "4ccd5d9a-bde4-41c1-fbce-89cfd79314f1"
      },
      "source": [
        "### Checking the number of images in the respective directories\n",
        "parent_dir = '/content/drive/MyDrive/KOBBY/ML and AI data/CNN'\n",
        "check_image_files(parent_dir)"
      ],
      "execution_count": 8,
      "outputs": [
        {
          "output_type": "stream",
          "text": [
            "There are 4 directories and             2 images in '/content/drive/MyDrive/KOBBY/ML and AI data/CNN''.\n",
            "There are 1 directories and             0 images in '/content/drive/MyDrive/KOBBY/ML and AI data/CNN/all_data''.\n",
            "There are 0 directories and             1100 images in '/content/drive/MyDrive/KOBBY/ML and AI data/CNN/all_data/all_data''.\n",
            "There are 0 directories and             1650 images in '/content/drive/MyDrive/KOBBY/ML and AI data/CNN/test_data''.\n",
            "There are 2 directories and             0 images in '/content/drive/MyDrive/KOBBY/ML and AI data/CNN/validation_data''.\n",
            "There are 0 directories and             285 images in '/content/drive/MyDrive/KOBBY/ML and AI data/CNN/validation_data/pothole''.\n",
            "There are 0 directories and             569 images in '/content/drive/MyDrive/KOBBY/ML and AI data/CNN/validation_data/no_pothole''.\n",
            "There are 2 directories and             0 images in '/content/drive/MyDrive/KOBBY/ML and AI data/CNN/train_data''.\n",
            "There are 0 directories and             1796 images in '/content/drive/MyDrive/KOBBY/ML and AI data/CNN/train_data/no_pothole''.\n",
            "There are 0 directories and             1376 images in '/content/drive/MyDrive/KOBBY/ML and AI data/CNN/train_data/pothole''.\n"
          ],
          "name": "stdout"
        }
      ]
    },
    {
      "cell_type": "markdown",
      "metadata": {
        "id": "nnsFsxR6tswj"
      },
      "source": [
        "- Check image files function shows the directories of our prepared data, the training set consist of 4,026 images for both class 0 and 1 and test images are 1,650.\n",
        "- Our data is ready in the directories that keras._preprocessing.image_data_from_directory_  expects. `tf.keras.preprocessing.image_dataset_from_directory(\n",
        "    directory, labels='inferred', label_mode='int',\n",
        "    class_names=None, color_mode='rgb', batch_size=32, image_size=(256,\n",
        "    256), shuffle=True, seed=None, validation_split=None, subset=None,\n",
        "    interpolation='bilinear', follow_links=False, smart_resize=False\n",
        ")`\n",
        "\n",
        "- We shall start with a simple classification model as our baseline and continue to improve the performance of with different approaches that best fit our classification problem."
      ]
    },
    {
      "cell_type": "markdown",
      "metadata": {
        "id": "dA-REgpVuoGn"
      },
      "source": [
        "#### Getting familiar with the dataset"
      ]
    },
    {
      "cell_type": "code",
      "metadata": {
        "colab": {
          "base_uri": "https://localhost:8080/",
          "height": 281
        },
        "id": "Xpq36wI4zRPH",
        "outputId": "cd47a796-d749-46c2-d72a-1b5700a63323"
      },
      "source": [
        "#### Randomly visualizing some images in the dataset\n",
        "target_directory = '/content/drive/MyDrive/KOBBY/ML and AI data/CNN/train_data'\n",
        "target_class = 'pothole' ## can be changed to no_pothole to visualize from that directory\n",
        "img = random_image_view(target_directory, target_class)"
      ],
      "execution_count": 9,
      "outputs": [
        {
          "output_type": "stream",
          "text": [
            "Image: (600, 800, 3)\n"
          ],
          "name": "stdout"
        },
        {
          "output_type": "display_data",
          "data": {
            "image/png": "[encoded data removed]",
            "text/plain": [
              "<Figure size 432x288 with 1 Axes>"
            ]
          },
          "metadata": {
            "tags": [],
            "needs_background": "light"
          }
        }
      ]
    },
    {
      "cell_type": "code",
      "metadata": {
        "colab": {
          "base_uri": "https://localhost:8080/"
        },
        "id": "nepY92OYfqKJ",
        "outputId": "f59174f2-4098-4dc3-f21c-93eefdcfa1d6"
      },
      "source": [
        "#### The array of the above image looks as follows\n",
        "img"
      ],
      "execution_count": 10,
      "outputs": [
        {
          "output_type": "execute_result",
          "data": {
            "text/plain": [
              "array([[[115, 140, 180],\n",
              "        [117, 142, 182],\n",
              "        [120, 145, 185],\n",
              "        ...,\n",
              "        [205, 230, 255],\n",
              "        [204, 229, 255],\n",
              "        [204, 229, 255]],\n",
              "\n",
              "       [[116, 141, 181],\n",
              "        [117, 142, 182],\n",
              "        [120, 145, 185],\n",
              "        ...,\n",
              "        [205, 230, 255],\n",
              "        [204, 229, 255],\n",
              "        [204, 229, 255]],\n",
              "\n",
              "       [[117, 142, 182],\n",
              "        [118, 143, 183],\n",
              "        [120, 145, 185],\n",
              "        ...,\n",
              "        [205, 230, 255],\n",
              "        [204, 229, 255],\n",
              "        [204, 229, 255]],\n",
              "\n",
              "       ...,\n",
              "\n",
              "       [[ 88,  73,  66],\n",
              "        [ 89,  74,  67],\n",
              "        [ 90,  75,  68],\n",
              "        ...,\n",
              "        [ 22,  20,  21],\n",
              "        [ 21,  19,  20],\n",
              "        [ 21,  19,  20]],\n",
              "\n",
              "       [[ 87,  72,  65],\n",
              "        [ 88,  73,  66],\n",
              "        [ 89,  74,  67],\n",
              "        ...,\n",
              "        [ 22,  20,  21],\n",
              "        [ 22,  20,  21],\n",
              "        [ 22,  20,  21]],\n",
              "\n",
              "       [[ 87,  72,  65],\n",
              "        [ 88,  73,  66],\n",
              "        [ 89,  74,  67],\n",
              "        ...,\n",
              "        [ 22,  20,  21],\n",
              "        [ 22,  20,  21],\n",
              "        [ 22,  20,  21]]], dtype=uint8)"
            ]
          },
          "metadata": {
            "tags": []
          },
          "execution_count": 10
        }
      ]
    },
    {
      "cell_type": "markdown",
      "metadata": {
        "id": "yVl7E0REzi49"
      },
      "source": [
        "# Setting up data for our base model"
      ]
    },
    {
      "cell_type": "markdown",
      "metadata": {
        "id": "AEvWR0_QVSOO"
      },
      "source": [
        "> We shall use the keras ImageDataGenerator library which is built purposely for making image processing easy for various image related problems. We have organized our dataset in the format that the Generator expects, thus, a training folder containing two sub directories, each with images of the different classes of the underlying problem; in our case `pothole` and `no_pothole`. We create an instance of the library that just rescale the image tensors it reads from the disk into `0` and `1` to help with easy convergence during training of the model. \\\n",
        "> A short description of our dataset is the type with `4,026` training set with labels and `1,650` without labels. We splitted the training set into training and validation sets. This is to help us keep track on the model performance. It is also important to note that we had images of both test and train in a folder, after several preparation we splitted the data into the required format for the model to be trained.\n",
        "\n",
        "#### Below is the data preparation with ImageDataGenerator and Model Creation."
      ]
    },
    {
      "cell_type": "code",
      "metadata": {
        "colab": {
          "base_uri": "https://localhost:8080/"
        },
        "id": "eLBQclTwCZ7t",
        "outputId": "d975109a-2209-4b18-bc05-0b732e51750f"
      },
      "source": [
        "# Set the seed\n",
        "tf.random.set_seed(42)\n",
        "\n",
        "# Setup the train and test directories\n",
        "train_dir = \"/content/drive/MyDrive/KOBBY/ML and AI data/CNN/train_data\"\n",
        "valid_dir = \"/content/drive/MyDrive/KOBBY/ML and AI data/CNN/validation_data\"\n",
        "\n",
        "# Preprocess data (get all of the pixel values between 1 and 0, also called scaling/normalization)\n",
        "train_datagen = ImageDataGenerator(rescale=1./255)\n",
        "valid_datagen = ImageDataGenerator(rescale=1./255)\n",
        "\n",
        "\n",
        "# Import data from directories and turn it into batches\n",
        "train_data = train_datagen.flow_from_directory(train_dir,\n",
        "                                               batch_size=32, # number of images to process at a time \n",
        "                                               target_size=(224, 224), # convert all images to be 224 x 224\n",
        "                                               class_mode=\"binary\", # type of problem we're working on\n",
        "                                               seed=42)\n",
        "\n",
        "valid_data = valid_datagen.flow_from_directory(valid_dir,\n",
        "                                               batch_size=32,\n",
        "                                               target_size=(224, 224),\n",
        "                                               class_mode=\"binary\",\n",
        "                                               seed=42)\n"
      ],
      "execution_count": 11,
      "outputs": [
        {
          "output_type": "stream",
          "text": [
            "Found 3172 images belonging to 2 classes.\n",
            "Found 854 images belonging to 2 classes.\n"
          ],
          "name": "stdout"
        }
      ]
    },
    {
      "cell_type": "code",
      "metadata": {
        "colab": {
          "base_uri": "https://localhost:8080/"
        },
        "id": "ifY6IT7kc_8v",
        "outputId": "ac37ba66-2f2c-45d6-c09f-2220adcabae3"
      },
      "source": [
        "# We create a base CNN model (same as Tiny VGG - https://poloclub.github.io/cnn-explainer/)\n",
        "model_1 = tf.keras.models.Sequential([\n",
        "  tf.keras.layers.Conv2D(filters=10, \n",
        "                         kernel_size=3, # can also be (3, 3)\n",
        "                         activation=\"relu\", \n",
        "                         input_shape=(224, 224, 3)), # first layer specifies input shape (height, width, colour channels)\n",
        "  tf.keras.layers.Conv2D(10, 3, activation=\"relu\"),\n",
        "  tf.keras.layers.MaxPool2D(pool_size=2, # pool_size can also be (2, 2)\n",
        "                            padding=\"same\"), # padding can also be 'same'\n",
        "  tf.keras.layers.Conv2D(10, 3, activation=\"relu\"),\n",
        "  tf.keras.layers.Conv2D(10, 3, activation=\"relu\"), # activation='relu' == tf.keras.layers.Activations(tf.nn.relu)\n",
        "  tf.keras.layers.MaxPool2D(2, padding='same'),\n",
        "  tf.keras.layers.Flatten(),\n",
        "  tf.keras.layers.Dense(1, activation=\"sigmoid\") # binary activation output\n",
        "])\n",
        "\n",
        "# Compile the model\n",
        "model_1.compile(loss=\"binary_crossentropy\",\n",
        "              optimizer=tf.keras.optimizers.Adam(),\n",
        "              metrics=[\"accuracy\"])\n",
        "\n",
        "# Fit the model\n",
        "history_1 = model_1.fit(train_data,\n",
        "                        epochs=15,\n",
        "                        steps_per_epoch=len(train_data),\n",
        "                        validation_data=valid_data,\n",
        "                        validation_steps=len(valid_data))"
      ],
      "execution_count": 12,
      "outputs": [
        {
          "output_type": "stream",
          "text": [
            "Epoch 1/15\n",
            "100/100 [==============================] - 1469s 15s/step - loss: 0.4345 - accuracy: 0.7935 - val_loss: 0.3129 - val_accuracy: 0.8817\n",
            "Epoch 2/15\n",
            "100/100 [==============================] - 166s 2s/step - loss: 0.2828 - accuracy: 0.8755 - val_loss: 0.2430 - val_accuracy: 0.8946\n",
            "Epoch 3/15\n",
            "100/100 [==============================] - 161s 2s/step - loss: 0.2227 - accuracy: 0.9089 - val_loss: 0.2317 - val_accuracy: 0.8993\n",
            "Epoch 4/15\n",
            "100/100 [==============================] - 161s 2s/step - loss: 0.1540 - accuracy: 0.9376 - val_loss: 0.1901 - val_accuracy: 0.9227\n",
            "Epoch 5/15\n",
            "100/100 [==============================] - 160s 2s/step - loss: 0.1332 - accuracy: 0.9511 - val_loss: 0.2184 - val_accuracy: 0.9204\n",
            "Epoch 6/15\n",
            "100/100 [==============================] - 165s 2s/step - loss: 0.0997 - accuracy: 0.9612 - val_loss: 0.1890 - val_accuracy: 0.9321\n",
            "Epoch 7/15\n",
            "100/100 [==============================] - 164s 2s/step - loss: 0.0680 - accuracy: 0.9751 - val_loss: 0.1960 - val_accuracy: 0.9426\n",
            "Epoch 8/15\n",
            "100/100 [==============================] - 160s 2s/step - loss: 0.0494 - accuracy: 0.9842 - val_loss: 0.1877 - val_accuracy: 0.9450\n",
            "Epoch 9/15\n",
            "100/100 [==============================] - 160s 2s/step - loss: 0.0756 - accuracy: 0.9713 - val_loss: 0.2116 - val_accuracy: 0.9321\n",
            "Epoch 10/15\n",
            "100/100 [==============================] - 164s 2s/step - loss: 0.0447 - accuracy: 0.9817 - val_loss: 0.2029 - val_accuracy: 0.9426\n",
            "Epoch 11/15\n",
            "100/100 [==============================] - 160s 2s/step - loss: 0.0264 - accuracy: 0.9918 - val_loss: 0.1941 - val_accuracy: 0.9508\n",
            "Epoch 12/15\n",
            "100/100 [==============================] - 160s 2s/step - loss: 0.0225 - accuracy: 0.9934 - val_loss: 0.1863 - val_accuracy: 0.9379\n",
            "Epoch 13/15\n",
            "100/100 [==============================] - 164s 2s/step - loss: 0.0132 - accuracy: 0.9962 - val_loss: 0.3501 - val_accuracy: 0.9309\n",
            "Epoch 14/15\n",
            "100/100 [==============================] - 165s 2s/step - loss: 0.0373 - accuracy: 0.9855 - val_loss: 0.2538 - val_accuracy: 0.9321\n",
            "Epoch 15/15\n",
            "100/100 [==============================] - 160s 2s/step - loss: 0.0358 - accuracy: 0.9896 - val_loss: 0.1905 - val_accuracy: 0.9297\n"
          ],
          "name": "stdout"
        }
      ]
    },
    {
      "cell_type": "code",
      "metadata": {
        "colab": {
          "base_uri": "https://localhost:8080/",
          "height": 573
        },
        "id": "cjj13pctgVn9",
        "outputId": "4b625086-7bac-4058-b2f4-98cda31979c2"
      },
      "source": [
        "### Visualize the training history \n",
        "plot_training_history(history_1)"
      ],
      "execution_count": 13,
      "outputs": [
        {
          "output_type": "display_data",
          "data": {
            "image/png": "[encoded data removed]",
            "text/plain": [
              "<Figure size 432x288 with 1 Axes>"
            ]
          },
          "metadata": {
            "tags": [],
            "needs_background": "light"
          }
        },
        {
          "output_type": "display_data",
          "data": {
            "image/png": "[encoded data removed]",
            "text/plain": [
              "<Figure size 432x288 with 1 Axes>"
            ]
          },
          "metadata": {
            "tags": [],
            "needs_background": "light"
          }
        }
      ]
    },
    {
      "cell_type": "markdown",
      "metadata": {
        "id": "EjdjtbDY00ot"
      },
      "source": [
        "- The validation loss as it can be seen from the training is fluctuating but not increasing. However, the decrement as compared to the training loss is small and hence gives the above graphical representation above the training loss line. We shall address this issue by either tweaking our base model or perhaps generating some batches of images by augmentation to fix diversities in our validation set."
      ]
    },
    {
      "cell_type": "code",
      "metadata": {
        "id": "8PnNQ8ZL3xqU",
        "colab": {
          "base_uri": "https://localhost:8080/"
        },
        "outputId": "ed4228ac-0592-48f9-b0f5-95ad7be48171"
      },
      "source": [
        "# Check out the layers in our model\n",
        "model_1.summary()"
      ],
      "execution_count": 14,
      "outputs": [
        {
          "output_type": "stream",
          "text": [
            "Model: \"sequential\"\n",
            "_________________________________________________________________\n",
            "Layer (type)                 Output Shape              Param #   \n",
            "=================================================================\n",
            "conv2d (Conv2D)              (None, 222, 222, 10)      280       \n",
            "_________________________________________________________________\n",
            "conv2d_1 (Conv2D)            (None, 220, 220, 10)      910       \n",
            "_________________________________________________________________\n",
            "max_pooling2d (MaxPooling2D) (None, 110, 110, 10)      0         \n",
            "_________________________________________________________________\n",
            "conv2d_2 (Conv2D)            (None, 108, 108, 10)      910       \n",
            "_________________________________________________________________\n",
            "conv2d_3 (Conv2D)            (None, 106, 106, 10)      910       \n",
            "_________________________________________________________________\n",
            "max_pooling2d_1 (MaxPooling2 (None, 53, 53, 10)        0         \n",
            "_________________________________________________________________\n",
            "flatten (Flatten)            (None, 28090)             0         \n",
            "_________________________________________________________________\n",
            "dense (Dense)                (None, 1)                 28091     \n",
            "=================================================================\n",
            "Total params: 31,101\n",
            "Trainable params: 31,101\n",
            "Non-trainable params: 0\n",
            "_________________________________________________________________\n"
          ],
          "name": "stdout"
        }
      ]
    },
    {
      "cell_type": "code",
      "metadata": {
        "id": "9k30iHIeUMzz",
        "colab": {
          "base_uri": "https://localhost:8080/"
        },
        "outputId": "9ff5bbf0-af2a-43f9-b64d-34438ba3f179"
      },
      "source": [
        "# Get a sample of the training data batch \n",
        "images, labels = train_data.next() # get the 'next' batch of images/labels\n",
        "len(images), len(labels)"
      ],
      "execution_count": 15,
      "outputs": [
        {
          "output_type": "execute_result",
          "data": {
            "text/plain": [
              "(32, 32)"
            ]
          },
          "metadata": {
            "tags": []
          },
          "execution_count": 15
        }
      ]
    },
    {
      "cell_type": "code",
      "metadata": {
        "id": "oxNflQn0UMw9",
        "colab": {
          "base_uri": "https://localhost:8080/"
        },
        "outputId": "209db078-e3d8-4b3d-c779-020ecf81408a"
      },
      "source": [
        "## Example of images passed into the model\n",
        "images[0].shape, images[:1]"
      ],
      "execution_count": 16,
      "outputs": [
        {
          "output_type": "execute_result",
          "data": {
            "text/plain": [
              "((224, 224, 3), array([[[[0.33333334, 0.46274513, 0.6313726 ],\n",
              "          [0.33333334, 0.46274513, 0.6313726 ],\n",
              "          [0.32941177, 0.45882356, 0.627451  ],\n",
              "          ...,\n",
              "          [1.        , 1.        , 1.        ],\n",
              "          [0.9803922 , 1.        , 0.9960785 ],\n",
              "          [0.93725497, 0.9960785 , 0.97647065]],\n",
              " \n",
              "         [[0.33333334, 0.46274513, 0.6313726 ],\n",
              "          [0.33333334, 0.46274513, 0.6313726 ],\n",
              "          [0.33333334, 0.46274513, 0.6313726 ],\n",
              "          ...,\n",
              "          [1.        , 1.        , 1.        ],\n",
              "          [0.97647065, 1.        , 0.9921569 ],\n",
              "          [0.94117653, 1.        , 0.9803922 ]],\n",
              " \n",
              "         [[0.33333334, 0.46274513, 0.6313726 ],\n",
              "          [0.33333334, 0.46274513, 0.6313726 ],\n",
              "          [0.3372549 , 0.4666667 , 0.63529414],\n",
              "          ...,\n",
              "          [1.        , 1.        , 1.        ],\n",
              "          [0.9725491 , 0.9960785 , 0.98823535],\n",
              "          [0.9450981 , 1.        , 0.9843138 ]],\n",
              " \n",
              "         ...,\n",
              " \n",
              "         [[0.24705884, 0.15686275, 0.13333334],\n",
              "          [0.21568629, 0.13725491, 0.10980393],\n",
              "          [0.19607845, 0.12156864, 0.09411766],\n",
              "          ...,\n",
              "          [0.3254902 , 0.3019608 , 0.3019608 ],\n",
              "          [0.29411766, 0.27058825, 0.27058825],\n",
              "          [0.26666668, 0.24313727, 0.24313727]],\n",
              " \n",
              "         [[0.23529413, 0.14509805, 0.12156864],\n",
              "          [0.24313727, 0.16470589, 0.13725491],\n",
              "          [0.20784315, 0.13333334, 0.10588236],\n",
              "          ...,\n",
              "          [0.3137255 , 0.2901961 , 0.2901961 ],\n",
              "          [0.2784314 , 0.25490198, 0.25490198],\n",
              "          [0.26666668, 0.24313727, 0.24313727]],\n",
              " \n",
              "         [[0.24705884, 0.15686275, 0.13333334],\n",
              "          [0.23137257, 0.15294118, 0.1254902 ],\n",
              "          [0.22352943, 0.14901961, 0.12156864],\n",
              "          ...,\n",
              "          [0.26666668, 0.24313727, 0.24313727],\n",
              "          [0.2627451 , 0.2392157 , 0.2392157 ],\n",
              "          [0.24705884, 0.22352943, 0.22352943]]]], dtype=float32))"
            ]
          },
          "metadata": {
            "tags": []
          },
          "execution_count": 16
        }
      ]
    },
    {
      "cell_type": "markdown",
      "metadata": {
        "id": "OT5Z51QCph5C"
      },
      "source": [
        "#### Making predictions with the our base model"
      ]
    },
    {
      "cell_type": "markdown",
      "metadata": {
        "id": "UbDThQwGboco"
      },
      "source": [
        "> We shall load some images from our validation/test set, make prediction on it and if the prediction is correct we print its title in green color else in red with our facilitated `make_random_prediction` method from our helper functions imported above."
      ]
    },
    {
      "cell_type": "code",
      "metadata": {
        "id": "vCRmd6eMpm8P"
      },
      "source": [
        "def check_some_predictions(model, num_preds=3):\n",
        "\n",
        "  ### From our helper functions we shall use `make_random_prediction` to visualize how the model is performing\n",
        "  ### First we give the class_names \n",
        "  class_names = ['no_pothole', 'pothole']\n",
        "  ### also instanstiate the test directory \n",
        "  test_directory = '/content/drive/MyDrive/KOBBY/ML and AI data/CNN/validation_data/'\n",
        "\n",
        "  ### specify the number of predictions to make\n",
        "  \n",
        "\n",
        "  #### calling the prediction function\n",
        "  make_random_prediction(model=model, class_names=class_names, test_dir=test_directory, num_preds=num_preds)"
      ],
      "execution_count": 13,
      "outputs": []
    },
    {
      "cell_type": "markdown",
      "metadata": {
        "id": "OFit6zFazEht"
      },
      "source": [
        "- Random predictions of specified images, red color indicating wrong prediction and green color indicating true prediction. "
      ]
    },
    {
      "cell_type": "markdown",
      "metadata": {
        "id": "sCgaicPnA6Uh"
      },
      "source": [
        "## Making prediction on our test data\n",
        "- Our test data contains `1,650` images. We shall make predictions with our trained model to classifying them into `potholes` or `no_potholes`. "
      ]
    },
    {
      "cell_type": "code",
      "metadata": {
        "id": "87I9A1GlA_vf"
      },
      "source": [
        "#### Get the directory of the test data\n",
        "test_dir = '/content/drive/MyDrive/KOBBY/ML and AI data/CNN/test_data'\n",
        "\n",
        "def make_test_preds(model, test_dir, test_labels):\n",
        "  ##innitiate an empty list to collect converted images\n",
        "  test_sets = []\n",
        "\n",
        "  ## Run for loop to collect all images in the test directory\n",
        "  for filename in os.listdir(test_dir):\n",
        "    filepath = test_dir + '/' + filename\n",
        "    test_sets.append(load_image(filepath, scale = True)) ## load_image helps convert an image into an array from our helper functions\n",
        "\n",
        "  ### convert the list into an array\n",
        "  test_data = np.array(test_sets)\n",
        "\n",
        "  ## confirm the shape of one image suitable for the model it was trained on.\n",
        "  print(test_data[0].shape)\n",
        "\n",
        "  ## We will pass the array of images to our model to make predictions and get the labels\n",
        "  preds_probas = model.predict(test_data)\n",
        "\n",
        "  ## Since we used sigmoid activation function and that outputs a value between 0 and 1 with threshold of 0.5, we shall get the labels using either tf.round/np.round or rule based.\n",
        "  #test_preds = np.round(preds_probas, 6)\n",
        "\n",
        "  ## Next we shall append the labels to the test_ids_only data.\n",
        "  test_labels['Labels'] = preds_probas\n",
        "  return test_labels\n"
      ],
      "execution_count": 14,
      "outputs": []
    },
    {
      "cell_type": "code",
      "metadata": {
        "colab": {
          "base_uri": "https://localhost:8080/"
        },
        "id": "RIlGqAuYo0uU",
        "outputId": "26f468d0-e83d-43f2-9c68-f222353ea725"
      },
      "source": [
        "model_1_predictions = make_test_preds(model_1, test_dir, test_labels)\n",
        "model_1_predictions"
      ],
      "execution_count": 21,
      "outputs": [
        {
          "output_type": "stream",
          "text": [
            "(224, 224, 3)\n"
          ],
          "name": "stdout"
        }
      ]
    },
    {
      "cell_type": "code",
      "metadata": {
        "colab": {
          "base_uri": "https://localhost:8080/"
        },
        "id": "WBnTtTDPWNAe",
        "outputId": "5f5da361-0827-4c57-9832-320b7dbd513a"
      },
      "source": [
        "### Check for the number of class distribution in the test_labels\n",
        "model_1_predictions.Labels.value_counts()"
      ],
      "execution_count": 22,
      "outputs": [
        {
          "output_type": "execute_result",
          "data": {
            "text/plain": [
              "1.000000    178\n",
              "0.000000     35\n",
              "0.999999     24\n",
              "0.999998     13\n",
              "0.999997     11\n",
              "           ... \n",
              "0.991528      1\n",
              "0.824069      1\n",
              "0.987626      1\n",
              "0.835283      1\n",
              "0.989276      1\n",
              "Name: Labels, Length: 1334, dtype: int64"
            ]
          },
          "metadata": {
            "tags": []
          },
          "execution_count": 22
        }
      ]
    },
    {
      "cell_type": "code",
      "metadata": {
        "id": "RI6ojU-fXiTU"
      },
      "source": [
        "### Next we shall save this to a csv file and check the performance of the log Loss on Zindi\n",
        "#test_labels['Labels'] = np.round(preds_probas, 6) ### We save the prediction probabilties up to six (6) decimal places.\n",
        "model_1_predictions.to_csv('pred_probs.csv', index= False)"
      ],
      "execution_count": 36,
      "outputs": []
    },
    {
      "cell_type": "markdown",
      "metadata": {
        "id": "iZMRVUOMY80h"
      },
      "source": [
        "> Zindi used the Log-loss metrics to evaluate the competition. Hence this model has a `logLoss` performance of `7.07985434488069`. We shall see if we can optimize this lost with the following techniques. It is worth noting that the best performance of the logloss on the leadership board is `0.258159757...`"
      ]
    },
    {
      "cell_type": "markdown",
      "metadata": {
        "id": "DMwR2KoTUMuX"
      },
      "source": [
        "#### Experimenting with transfer learning with Keras functional API"
      ]
    },
    {
      "cell_type": "code",
      "metadata": {
        "colab": {
          "base_uri": "https://localhost:8080/"
        },
        "id": "uJkDQJm8hxYF",
        "outputId": "00437aed-3806-4b0e-adbb-982efdc1bf95"
      },
      "source": [
        "# Import data from directories and turn it into batches\n",
        "trans_l_train_data = tf.keras.preprocessing.image_dataset_from_directory(train_dir,\n",
        "                                                          batch_size=32, # number of images to process at a time \n",
        "                                                          image_size=(224, 224), # convert all images to be 224 x 224\n",
        "                                                          label_mode=\"binary\", # type of problem we're working on\n",
        "                                                          seed=42)\n",
        "\n",
        "trans_l_valid_data = tf.keras.preprocessing.image_dataset_from_directory(valid_dir,\n",
        "                                                          batch_size=32,\n",
        "                                                          image_size=(224, 224),\n",
        "                                                          label_mode=\"binary\",\n",
        "                                                          seed=42)"
      ],
      "execution_count": 15,
      "outputs": [
        {
          "output_type": "stream",
          "text": [
            "Found 3172 files belonging to 2 classes.\n",
            "Found 854 files belonging to 2 classes.\n"
          ],
          "name": "stdout"
        }
      ]
    },
    {
      "cell_type": "code",
      "metadata": {
        "colab": {
          "base_uri": "https://localhost:8080/"
        },
        "id": "JSCyWECxh6ZW",
        "outputId": "55ab87c1-b995-44fa-fa52-5454bb290282"
      },
      "source": [
        "# Check out the class names of our dataset\n",
        "trans_l_train_data.class_names"
      ],
      "execution_count": 16,
      "outputs": [
        {
          "output_type": "execute_result",
          "data": {
            "text/plain": [
              "['no_pothole', 'pothole']"
            ]
          },
          "metadata": {
            "tags": []
          },
          "execution_count": 16
        }
      ]
    },
    {
      "cell_type": "code",
      "metadata": {
        "id": "-koml3gKUMr0",
        "colab": {
          "base_uri": "https://localhost:8080/"
        },
        "outputId": "8f070854-1150-41bc-90a6-a24b064ea02c"
      },
      "source": [
        "# 1. Create base model with tf.keras.applications\n",
        "base_model = tf.keras.applications.EfficientNetB0(include_top=False)\n",
        "\n",
        "# 2. Freeze the base model (so the pre-learned patterns remain)\n",
        "base_model.trainable = False\n",
        "\n",
        "# 3. Create inputs into the base model\n",
        "inputs = tf.keras.layers.Input(shape=(224, 224, 3), name=\"input_layer\")\n",
        "\n",
        "# 4. If using ResNet50V2, add this to speed up convergence, remove for EfficientNet\n",
        "# x = tf.keras.layers.experimental.preprocessing.Rescaling(1./255)(inputs)\n",
        "\n",
        "# 5. Pass the inputs to the base_model (note: using tf.keras.applications, EfficientNet inputs don't have to be normalized)\n",
        "x = base_model(inputs)\n",
        "# Check data shape after passing it to base_model\n",
        "print(f\"Shape after base_model: {x.shape}\")\n",
        "\n",
        "# 6. Average pool the outputs of the base model (aggregate all the most important information, reduce number of computations)\n",
        "x = tf.keras.layers.GlobalAveragePooling2D(name=\"global_average_pooling_layer\")(x)\n",
        "print(f\"After GlobalAveragePooling2D(): {x.shape}\")\n",
        "\n",
        "# 7. Create the output activation layer\n",
        "outputs = tf.keras.layers.Dense(1, activation=\"sigmoid\", name=\"output_layer\")(x)\n",
        "\n",
        "# 8. Combine the inputs with the outputs into a model\n",
        "model_3 = tf.keras.Model(inputs, outputs)\n",
        "\n",
        "# 9. Compile the model\n",
        "model_3.compile(loss='binary_crossentropy',\n",
        "              optimizer=tf.keras.optimizers.Adam(),\n",
        "              metrics=[\"accuracy\"])\n",
        "\n"
      ],
      "execution_count": 17,
      "outputs": [
        {
          "output_type": "stream",
          "text": [
            "Downloading data from https://storage.googleapis.com/keras-applications/efficientnetb0_notop.h5\n",
            "16711680/16705208 [==============================] - 0s 0us/step\n",
            "Shape after base_model: (None, 7, 7, 1280)\n",
            "After GlobalAveragePooling2D(): (None, 1280)\n"
          ],
          "name": "stdout"
        }
      ]
    },
    {
      "cell_type": "code",
      "metadata": {
        "colab": {
          "base_uri": "https://localhost:8080/"
        },
        "id": "_5D5oaqTuk50",
        "outputId": "aa08cf71-5f42-4b42-e367-be5cd213026d"
      },
      "source": [
        "# 10. Fit the model (we use less steps for validation so it's faster)\n",
        "history_transfer_learning = model_3.fit(trans_l_train_data,\n",
        "                                 epochs=5,\n",
        "                                 steps_per_epoch=len(trans_l_train_data),\n",
        "                                 validation_data=trans_l_valid_data,\n",
        "                                 # Go through less of the validation data so epochs are faster (we want faster experiments!)\n",
        "                                 validation_steps=int(0.25 * len(trans_l_valid_data)))"
      ],
      "execution_count": 18,
      "outputs": [
        {
          "output_type": "stream",
          "text": [
            "Epoch 1/5\n",
            "100/100 [==============================] - 612s 6s/step - loss: 0.5341 - accuracy: 0.7579 - val_loss: 0.3494 - val_accuracy: 0.8854\n",
            "Epoch 2/5\n",
            "100/100 [==============================] - 191s 2s/step - loss: 0.3931 - accuracy: 0.8531 - val_loss: 0.3103 - val_accuracy: 0.8958\n",
            "Epoch 3/5\n",
            "100/100 [==============================] - 193s 2s/step - loss: 0.3392 - accuracy: 0.8707 - val_loss: 0.2550 - val_accuracy: 0.9167\n",
            "Epoch 4/5\n",
            "100/100 [==============================] - 193s 2s/step - loss: 0.3092 - accuracy: 0.8852 - val_loss: 0.2391 - val_accuracy: 0.9167\n",
            "Epoch 5/5\n",
            "100/100 [==============================] - 193s 2s/step - loss: 0.2823 - accuracy: 0.8906 - val_loss: 0.2052 - val_accuracy: 0.9375\n"
          ],
          "name": "stdout"
        }
      ]
    },
    {
      "cell_type": "markdown",
      "metadata": {
        "id": "AV_bDtML2PYh"
      },
      "source": [
        "- Compared to our two models earlier the validation performance with the EfficientNet seem to be better even with the top freezed. We shall continue with fine tuning by unfreezing some layers to check the perfomance. "
      ]
    },
    {
      "cell_type": "code",
      "metadata": {
        "id": "265shFIYUMlG",
        "colab": {
          "base_uri": "https://localhost:8080/",
          "height": 573
        },
        "outputId": "b13b5589-244c-414b-c689-0083dc0c302f"
      },
      "source": [
        "### Visualize the training history  for the transfer learning\n",
        "plot_training_history(history_transfer_learning)"
      ],
      "execution_count": 19,
      "outputs": [
        {
          "output_type": "display_data",
          "data": {
            "image/png": "[encoded data removed]",
            "text/plain": [
              "<Figure size 432x288 with 1 Axes>"
            ]
          },
          "metadata": {
            "tags": [],
            "needs_background": "light"
          }
        },
        {
          "output_type": "display_data",
          "data": {
            "image/png": "[encoded data removed]",
            "text/plain": [
              "<Figure size 432x288 with 1 Axes>"
            ]
          },
          "metadata": {
            "tags": [],
            "needs_background": "light"
          }
        }
      ]
    },
    {
      "cell_type": "markdown",
      "metadata": {
        "id": "lD4i8tp_0sNB"
      },
      "source": [
        "- We used a transfer learning with the top freezed and the output layer set to our binary classification. "
      ]
    },
    {
      "cell_type": "markdown",
      "metadata": {
        "id": "BCi4pP0h280n"
      },
      "source": [
        "> Making prediction with the EfficientNet model"
      ]
    },
    {
      "cell_type": "code",
      "metadata": {
        "colab": {
          "base_uri": "https://localhost:8080/",
          "height": 441
        },
        "id": "EmY6WNHu3GPN",
        "outputId": "7a9226e6-ec9b-43c4-b15a-b8d2b7f70224"
      },
      "source": [
        "#### We use the function from above\n",
        "Efficient_test_preds = make_test_preds(model_3,test_dir=test_dir, test_labels=test_labels)\n",
        "Efficient_test_preds"
      ],
      "execution_count": 20,
      "outputs": [
        {
          "output_type": "stream",
          "text": [
            "(224, 224, 3)\n"
          ],
          "name": "stdout"
        },
        {
          "output_type": "execute_result",
          "data": {
            "text/html": [
              "<div>\n",
              "<style scoped>\n",
              "    .dataframe tbody tr th:only-of-type {\n",
              "        vertical-align: middle;\n",
              "    }\n",
              "\n",
              "    .dataframe tbody tr th {\n",
              "        vertical-align: top;\n",
              "    }\n",
              "\n",
              "    .dataframe thead th {\n",
              "        text-align: right;\n",
              "    }\n",
              "</style>\n",
              "<table border=\"1\" class=\"dataframe\">\n",
              "  <thead>\n",
              "    <tr style=\"text-align: right;\">\n",
              "      <th></th>\n",
              "      <th>Image_ID</th>\n",
              "      <th>Labels</th>\n",
              "    </tr>\n",
              "  </thead>\n",
              "  <tbody>\n",
              "    <tr>\n",
              "      <th>0</th>\n",
              "      <td>nRhHxqLhDlJsiXc</td>\n",
              "      <td>0.490752</td>\n",
              "    </tr>\n",
              "    <tr>\n",
              "      <th>1</th>\n",
              "      <td>gbSntVovxgHQrmO</td>\n",
              "      <td>0.491850</td>\n",
              "    </tr>\n",
              "    <tr>\n",
              "      <th>2</th>\n",
              "      <td>nqOobGmvgEOiPms</td>\n",
              "      <td>0.491204</td>\n",
              "    </tr>\n",
              "    <tr>\n",
              "      <th>3</th>\n",
              "      <td>oIkPTooLcIbZKlF</td>\n",
              "      <td>0.490113</td>\n",
              "    </tr>\n",
              "    <tr>\n",
              "      <th>4</th>\n",
              "      <td>eSKxsTTJDQzkjgD</td>\n",
              "      <td>0.489740</td>\n",
              "    </tr>\n",
              "    <tr>\n",
              "      <th>...</th>\n",
              "      <td>...</td>\n",
              "      <td>...</td>\n",
              "    </tr>\n",
              "    <tr>\n",
              "      <th>1645</th>\n",
              "      <td>BmSrWvzrriPuQOh</td>\n",
              "      <td>0.490577</td>\n",
              "    </tr>\n",
              "    <tr>\n",
              "      <th>1646</th>\n",
              "      <td>HfXCITRCHqrLOda</td>\n",
              "      <td>0.490375</td>\n",
              "    </tr>\n",
              "    <tr>\n",
              "      <th>1647</th>\n",
              "      <td>uQLYKtTCnvWWGVu</td>\n",
              "      <td>0.489810</td>\n",
              "    </tr>\n",
              "    <tr>\n",
              "      <th>1648</th>\n",
              "      <td>gYWbwjUOZrOlTzQ</td>\n",
              "      <td>0.489835</td>\n",
              "    </tr>\n",
              "    <tr>\n",
              "      <th>1649</th>\n",
              "      <td>esJzIdnRkHNVvjq</td>\n",
              "      <td>0.490170</td>\n",
              "    </tr>\n",
              "  </tbody>\n",
              "</table>\n",
              "<p>1650 rows × 2 columns</p>\n",
              "</div>"
            ],
            "text/plain": [
              "             Image_ID    Labels\n",
              "0     nRhHxqLhDlJsiXc  0.490752\n",
              "1     gbSntVovxgHQrmO  0.491850\n",
              "2     nqOobGmvgEOiPms  0.491204\n",
              "3     oIkPTooLcIbZKlF  0.490113\n",
              "4     eSKxsTTJDQzkjgD  0.489740\n",
              "...               ...       ...\n",
              "1645  BmSrWvzrriPuQOh  0.490577\n",
              "1646  HfXCITRCHqrLOda  0.490375\n",
              "1647  uQLYKtTCnvWWGVu  0.489810\n",
              "1648  gYWbwjUOZrOlTzQ  0.489835\n",
              "1649  esJzIdnRkHNVvjq  0.490170\n",
              "\n",
              "[1650 rows x 2 columns]"
            ]
          },
          "metadata": {
            "tags": []
          },
          "execution_count": 20
        }
      ]
    },
    {
      "cell_type": "code",
      "metadata": {
        "id": "VBJLsAnV3fmM"
      },
      "source": [
        "#### saving predictions\n",
        "Efficient_test_preds.to_csv('efficient.csv', index = False)"
      ],
      "execution_count": 21,
      "outputs": []
    },
    {
      "cell_type": "markdown",
      "metadata": {
        "id": "dAZ2Ta944qI2"
      },
      "source": [
        "- After zindi submission on the performance of EfficientNet, we observed that we have improved by this `0.73468666095937` much of logloss compared to our earlier `7.07985434488069`. "
      ]
    },
    {
      "cell_type": "markdown",
      "metadata": {
        "id": "t07GYzMH5Dg7"
      },
      "source": [
        "#### We shall unfreeze some layers to give chance to the model to train."
      ]
    },
    {
      "cell_type": "code",
      "metadata": {
        "colab": {
          "base_uri": "https://localhost:8080/"
        },
        "id": "-cwEzJZszr5l",
        "outputId": "4a4bdad2-efb5-4e39-e1ad-380bb55c4769"
      },
      "source": [
        "# Check which layers are tuneable (trainable)\n",
        "for layer_number, layer in enumerate(base_model.layers):\n",
        "  print(layer_number, layer.name, layer.trainable)"
      ],
      "execution_count": 22,
      "outputs": [
        {
          "output_type": "stream",
          "text": [
            "0 input_1 False\n",
            "1 rescaling False\n",
            "2 normalization False\n",
            "3 stem_conv_pad False\n",
            "4 stem_conv False\n",
            "5 stem_bn False\n",
            "6 stem_activation False\n",
            "7 block1a_dwconv False\n",
            "8 block1a_bn False\n",
            "9 block1a_activation False\n",
            "10 block1a_se_squeeze False\n",
            "11 block1a_se_reshape False\n",
            "12 block1a_se_reduce False\n",
            "13 block1a_se_expand False\n",
            "14 block1a_se_excite False\n",
            "15 block1a_project_conv False\n",
            "16 block1a_project_bn False\n",
            "17 block2a_expand_conv False\n",
            "18 block2a_expand_bn False\n",
            "19 block2a_expand_activation False\n",
            "20 block2a_dwconv_pad False\n",
            "21 block2a_dwconv False\n",
            "22 block2a_bn False\n",
            "23 block2a_activation False\n",
            "24 block2a_se_squeeze False\n",
            "25 block2a_se_reshape False\n",
            "26 block2a_se_reduce False\n",
            "27 block2a_se_expand False\n",
            "28 block2a_se_excite False\n",
            "29 block2a_project_conv False\n",
            "30 block2a_project_bn False\n",
            "31 block2b_expand_conv False\n",
            "32 block2b_expand_bn False\n",
            "33 block2b_expand_activation False\n",
            "34 block2b_dwconv False\n",
            "35 block2b_bn False\n",
            "36 block2b_activation False\n",
            "37 block2b_se_squeeze False\n",
            "38 block2b_se_reshape False\n",
            "39 block2b_se_reduce False\n",
            "40 block2b_se_expand False\n",
            "41 block2b_se_excite False\n",
            "42 block2b_project_conv False\n",
            "43 block2b_project_bn False\n",
            "44 block2b_drop False\n",
            "45 block2b_add False\n",
            "46 block3a_expand_conv False\n",
            "47 block3a_expand_bn False\n",
            "48 block3a_expand_activation False\n",
            "49 block3a_dwconv_pad False\n",
            "50 block3a_dwconv False\n",
            "51 block3a_bn False\n",
            "52 block3a_activation False\n",
            "53 block3a_se_squeeze False\n",
            "54 block3a_se_reshape False\n",
            "55 block3a_se_reduce False\n",
            "56 block3a_se_expand False\n",
            "57 block3a_se_excite False\n",
            "58 block3a_project_conv False\n",
            "59 block3a_project_bn False\n",
            "60 block3b_expand_conv False\n",
            "61 block3b_expand_bn False\n",
            "62 block3b_expand_activation False\n",
            "63 block3b_dwconv False\n",
            "64 block3b_bn False\n",
            "65 block3b_activation False\n",
            "66 block3b_se_squeeze False\n",
            "67 block3b_se_reshape False\n",
            "68 block3b_se_reduce False\n",
            "69 block3b_se_expand False\n",
            "70 block3b_se_excite False\n",
            "71 block3b_project_conv False\n",
            "72 block3b_project_bn False\n",
            "73 block3b_drop False\n",
            "74 block3b_add False\n",
            "75 block4a_expand_conv False\n",
            "76 block4a_expand_bn False\n",
            "77 block4a_expand_activation False\n",
            "78 block4a_dwconv_pad False\n",
            "79 block4a_dwconv False\n",
            "80 block4a_bn False\n",
            "81 block4a_activation False\n",
            "82 block4a_se_squeeze False\n",
            "83 block4a_se_reshape False\n",
            "84 block4a_se_reduce False\n",
            "85 block4a_se_expand False\n",
            "86 block4a_se_excite False\n",
            "87 block4a_project_conv False\n",
            "88 block4a_project_bn False\n",
            "89 block4b_expand_conv False\n",
            "90 block4b_expand_bn False\n",
            "91 block4b_expand_activation False\n",
            "92 block4b_dwconv False\n",
            "93 block4b_bn False\n",
            "94 block4b_activation False\n",
            "95 block4b_se_squeeze False\n",
            "96 block4b_se_reshape False\n",
            "97 block4b_se_reduce False\n",
            "98 block4b_se_expand False\n",
            "99 block4b_se_excite False\n",
            "100 block4b_project_conv False\n",
            "101 block4b_project_bn False\n",
            "102 block4b_drop False\n",
            "103 block4b_add False\n",
            "104 block4c_expand_conv False\n",
            "105 block4c_expand_bn False\n",
            "106 block4c_expand_activation False\n",
            "107 block4c_dwconv False\n",
            "108 block4c_bn False\n",
            "109 block4c_activation False\n",
            "110 block4c_se_squeeze False\n",
            "111 block4c_se_reshape False\n",
            "112 block4c_se_reduce False\n",
            "113 block4c_se_expand False\n",
            "114 block4c_se_excite False\n",
            "115 block4c_project_conv False\n",
            "116 block4c_project_bn False\n",
            "117 block4c_drop False\n",
            "118 block4c_add False\n",
            "119 block5a_expand_conv False\n",
            "120 block5a_expand_bn False\n",
            "121 block5a_expand_activation False\n",
            "122 block5a_dwconv False\n",
            "123 block5a_bn False\n",
            "124 block5a_activation False\n",
            "125 block5a_se_squeeze False\n",
            "126 block5a_se_reshape False\n",
            "127 block5a_se_reduce False\n",
            "128 block5a_se_expand False\n",
            "129 block5a_se_excite False\n",
            "130 block5a_project_conv False\n",
            "131 block5a_project_bn False\n",
            "132 block5b_expand_conv False\n",
            "133 block5b_expand_bn False\n",
            "134 block5b_expand_activation False\n",
            "135 block5b_dwconv False\n",
            "136 block5b_bn False\n",
            "137 block5b_activation False\n",
            "138 block5b_se_squeeze False\n",
            "139 block5b_se_reshape False\n",
            "140 block5b_se_reduce False\n",
            "141 block5b_se_expand False\n",
            "142 block5b_se_excite False\n",
            "143 block5b_project_conv False\n",
            "144 block5b_project_bn False\n",
            "145 block5b_drop False\n",
            "146 block5b_add False\n",
            "147 block5c_expand_conv False\n",
            "148 block5c_expand_bn False\n",
            "149 block5c_expand_activation False\n",
            "150 block5c_dwconv False\n",
            "151 block5c_bn False\n",
            "152 block5c_activation False\n",
            "153 block5c_se_squeeze False\n",
            "154 block5c_se_reshape False\n",
            "155 block5c_se_reduce False\n",
            "156 block5c_se_expand False\n",
            "157 block5c_se_excite False\n",
            "158 block5c_project_conv False\n",
            "159 block5c_project_bn False\n",
            "160 block5c_drop False\n",
            "161 block5c_add False\n",
            "162 block6a_expand_conv False\n",
            "163 block6a_expand_bn False\n",
            "164 block6a_expand_activation False\n",
            "165 block6a_dwconv_pad False\n",
            "166 block6a_dwconv False\n",
            "167 block6a_bn False\n",
            "168 block6a_activation False\n",
            "169 block6a_se_squeeze False\n",
            "170 block6a_se_reshape False\n",
            "171 block6a_se_reduce False\n",
            "172 block6a_se_expand False\n",
            "173 block6a_se_excite False\n",
            "174 block6a_project_conv False\n",
            "175 block6a_project_bn False\n",
            "176 block6b_expand_conv False\n",
            "177 block6b_expand_bn False\n",
            "178 block6b_expand_activation False\n",
            "179 block6b_dwconv False\n",
            "180 block6b_bn False\n",
            "181 block6b_activation False\n",
            "182 block6b_se_squeeze False\n",
            "183 block6b_se_reshape False\n",
            "184 block6b_se_reduce False\n",
            "185 block6b_se_expand False\n",
            "186 block6b_se_excite False\n",
            "187 block6b_project_conv False\n",
            "188 block6b_project_bn False\n",
            "189 block6b_drop False\n",
            "190 block6b_add False\n",
            "191 block6c_expand_conv False\n",
            "192 block6c_expand_bn False\n",
            "193 block6c_expand_activation False\n",
            "194 block6c_dwconv False\n",
            "195 block6c_bn False\n",
            "196 block6c_activation False\n",
            "197 block6c_se_squeeze False\n",
            "198 block6c_se_reshape False\n",
            "199 block6c_se_reduce False\n",
            "200 block6c_se_expand False\n",
            "201 block6c_se_excite False\n",
            "202 block6c_project_conv False\n",
            "203 block6c_project_bn False\n",
            "204 block6c_drop False\n",
            "205 block6c_add False\n",
            "206 block6d_expand_conv False\n",
            "207 block6d_expand_bn False\n",
            "208 block6d_expand_activation False\n",
            "209 block6d_dwconv False\n",
            "210 block6d_bn False\n",
            "211 block6d_activation False\n",
            "212 block6d_se_squeeze False\n",
            "213 block6d_se_reshape False\n",
            "214 block6d_se_reduce False\n",
            "215 block6d_se_expand False\n",
            "216 block6d_se_excite False\n",
            "217 block6d_project_conv False\n",
            "218 block6d_project_bn False\n",
            "219 block6d_drop False\n",
            "220 block6d_add False\n",
            "221 block7a_expand_conv False\n",
            "222 block7a_expand_bn False\n",
            "223 block7a_expand_activation False\n",
            "224 block7a_dwconv False\n",
            "225 block7a_bn False\n",
            "226 block7a_activation False\n",
            "227 block7a_se_squeeze False\n",
            "228 block7a_se_reshape False\n",
            "229 block7a_se_reduce False\n",
            "230 block7a_se_expand False\n",
            "231 block7a_se_excite False\n",
            "232 block7a_project_conv False\n",
            "233 block7a_project_bn False\n",
            "234 top_conv False\n",
            "235 top_bn False\n",
            "236 top_activation False\n"
          ],
          "name": "stdout"
        }
      ]
    },
    {
      "cell_type": "markdown",
      "metadata": {
        "id": "yWeY-s405PoX"
      },
      "source": [
        "- It's seen that all the layers not training. We shall unfreeze the last `10` layers to see the performance."
      ]
    },
    {
      "cell_type": "code",
      "metadata": {
        "id": "v7UOBICNb6LI"
      },
      "source": [
        "#### We set all the layers to train.\n",
        "base_model.trainable = True\n",
        "0.73468666095937\n",
        "# Freeze all layers except for the last 10 layers\n",
        "for layer in base_model.layers[:-8]:\n",
        "  layer.trainable = False\n",
        "\n",
        "# Recompile the model (always recompile after any adjustments to a model)\n",
        "model_3.compile(loss=\"binary_crossentropy\",\n",
        "              optimizer=tf.keras.optimizers.Adam(learning_rate=0.0001), # lr is 10x lower than before for fine-tuning\n",
        "              metrics=[\"accuracy\"])"
      ],
      "execution_count": 23,
      "outputs": []
    },
    {
      "cell_type": "code",
      "metadata": {
        "colab": {
          "base_uri": "https://localhost:8080/"
        },
        "id": "2qxAuFlJcUay",
        "outputId": "5181df01-6a5c-4834-d9e0-43b88c550da2"
      },
      "source": [
        "print(len(model_3.trainable_variables)) ### We have got 12 layers training now."
      ],
      "execution_count": 24,
      "outputs": [
        {
          "output_type": "stream",
          "text": [
            "12\n"
          ],
          "name": "stdout"
        }
      ]
    },
    {
      "cell_type": "code",
      "metadata": {
        "colab": {
          "base_uri": "https://localhost:8080/"
        },
        "id": "BeXGYDs7cyFp",
        "outputId": "30b1a98a-e487-48e1-9623-27aa2a828a8a"
      },
      "source": [
        "# Fine tune for another epochs\n",
        "fine_tune_epochs = 5\n",
        "\n",
        "# Refit the model (same as model_2 except with more trainable layers)\n",
        "history_transfer_learning_fine_tuned = model_3.fit(trans_l_train_data,\n",
        "                                               epochs=fine_tune_epochs,\n",
        "                                               validation_data=trans_l_valid_data,\n",
        "                                               validation_steps=int(0.25 * len(trans_l_valid_data)))"
      ],
      "execution_count": 25,
      "outputs": [
        {
          "output_type": "stream",
          "text": [
            "Epoch 1/5\n",
            "100/100 [==============================] - 199s 2s/step - loss: 0.2397 - accuracy: 0.9079 - val_loss: 0.1554 - val_accuracy: 0.9323\n",
            "Epoch 2/5\n",
            "100/100 [==============================] - 191s 2s/step - loss: 0.1903 - accuracy: 0.9284 - val_loss: 0.1517 - val_accuracy: 0.9271\n",
            "Epoch 3/5\n",
            "100/100 [==============================] - 191s 2s/step - loss: 0.1535 - accuracy: 0.9461 - val_loss: 0.1334 - val_accuracy: 0.9427\n",
            "Epoch 4/5\n",
            "100/100 [==============================] - 191s 2s/step - loss: 0.1337 - accuracy: 0.9530 - val_loss: 0.1017 - val_accuracy: 0.9635\n",
            "Epoch 5/5\n",
            "100/100 [==============================] - 191s 2s/step - loss: 0.1183 - accuracy: 0.9590 - val_loss: 0.0679 - val_accuracy: 0.9792\n"
          ],
          "name": "stdout"
        }
      ]
    },
    {
      "cell_type": "markdown",
      "metadata": {
        "id": "EnchtYo83JU5"
      },
      "source": [
        "- EfficientNet with 12 training layers sees so far a good performance on the validation loss as compared to the previous models and techniques.Although, there are a bit of fluctuation in the decreasing nature of the losses. However, the model trains as expected with a consistent loss reduction\n",
        "- We shall make predictions and see the performance for this results. "
      ]
    },
    {
      "cell_type": "code",
      "metadata": {
        "colab": {
          "base_uri": "https://localhost:8080/",
          "height": 573
        },
        "id": "Ftb_-JYJ7aJY",
        "outputId": "0ec67007-fd44-4c40-893d-6931bbc58bfd"
      },
      "source": [
        "### Visualize the training history  for the transfer learning\n",
        "plot_training_history(history_transfer_learning_fine_tuned)"
      ],
      "execution_count": 26,
      "outputs": [
        {
          "output_type": "display_data",
          "data": {
            "image/png": "[encoded data removed]",
            "text/plain": [
              "<Figure size 432x288 with 1 Axes>"
            ]
          },
          "metadata": {
            "tags": [],
            "needs_background": "light"
          }
        },
        {
          "output_type": "display_data",
          "data": {
            "image/png": "[encoded data removed]",
            "text/plain": [
              "<Figure size 432x288 with 1 Axes>"
            ]
          },
          "metadata": {
            "tags": [],
            "needs_background": "light"
          }
        }
      ]
    },
    {
      "cell_type": "code",
      "metadata": {
        "colab": {
          "base_uri": "https://localhost:8080/",
          "height": 441
        },
        "id": "jFl4-hvw8ihl",
        "outputId": "23fd1136-c8d3-43ef-d655-ebe5467fa78c"
      },
      "source": [
        "#### We use the function from above\n",
        "EfficientNet_Unfreeze_test_preds = make_test_preds(model_3,test_dir=test_dir, test_labels=test_labels)\n",
        "EfficientNet_Unfreeze_test_preds"
      ],
      "execution_count": 27,
      "outputs": [
        {
          "output_type": "stream",
          "text": [
            "(224, 224, 3)\n"
          ],
          "name": "stdout"
        },
        {
          "output_type": "execute_result",
          "data": {
            "text/html": [
              "<div>\n",
              "<style scoped>\n",
              "    .dataframe tbody tr th:only-of-type {\n",
              "        vertical-align: middle;\n",
              "    }\n",
              "\n",
              "    .dataframe tbody tr th {\n",
              "        vertical-align: top;\n",
              "    }\n",
              "\n",
              "    .dataframe thead th {\n",
              "        text-align: right;\n",
              "    }\n",
              "</style>\n",
              "<table border=\"1\" class=\"dataframe\">\n",
              "  <thead>\n",
              "    <tr style=\"text-align: right;\">\n",
              "      <th></th>\n",
              "      <th>Image_ID</th>\n",
              "      <th>Labels</th>\n",
              "    </tr>\n",
              "  </thead>\n",
              "  <tbody>\n",
              "    <tr>\n",
              "      <th>0</th>\n",
              "      <td>nRhHxqLhDlJsiXc</td>\n",
              "      <td>0.545425</td>\n",
              "    </tr>\n",
              "    <tr>\n",
              "      <th>1</th>\n",
              "      <td>gbSntVovxgHQrmO</td>\n",
              "      <td>0.546513</td>\n",
              "    </tr>\n",
              "    <tr>\n",
              "      <th>2</th>\n",
              "      <td>nqOobGmvgEOiPms</td>\n",
              "      <td>0.545986</td>\n",
              "    </tr>\n",
              "    <tr>\n",
              "      <th>3</th>\n",
              "      <td>oIkPTooLcIbZKlF</td>\n",
              "      <td>0.545405</td>\n",
              "    </tr>\n",
              "    <tr>\n",
              "      <th>4</th>\n",
              "      <td>eSKxsTTJDQzkjgD</td>\n",
              "      <td>0.544927</td>\n",
              "    </tr>\n",
              "    <tr>\n",
              "      <th>...</th>\n",
              "      <td>...</td>\n",
              "      <td>...</td>\n",
              "    </tr>\n",
              "    <tr>\n",
              "      <th>1645</th>\n",
              "      <td>BmSrWvzrriPuQOh</td>\n",
              "      <td>0.545902</td>\n",
              "    </tr>\n",
              "    <tr>\n",
              "      <th>1646</th>\n",
              "      <td>HfXCITRCHqrLOda</td>\n",
              "      <td>0.545260</td>\n",
              "    </tr>\n",
              "    <tr>\n",
              "      <th>1647</th>\n",
              "      <td>uQLYKtTCnvWWGVu</td>\n",
              "      <td>0.544764</td>\n",
              "    </tr>\n",
              "    <tr>\n",
              "      <th>1648</th>\n",
              "      <td>gYWbwjUOZrOlTzQ</td>\n",
              "      <td>0.545179</td>\n",
              "    </tr>\n",
              "    <tr>\n",
              "      <th>1649</th>\n",
              "      <td>esJzIdnRkHNVvjq</td>\n",
              "      <td>0.545163</td>\n",
              "    </tr>\n",
              "  </tbody>\n",
              "</table>\n",
              "<p>1650 rows × 2 columns</p>\n",
              "</div>"
            ],
            "text/plain": [
              "             Image_ID    Labels\n",
              "0     nRhHxqLhDlJsiXc  0.545425\n",
              "1     gbSntVovxgHQrmO  0.546513\n",
              "2     nqOobGmvgEOiPms  0.545986\n",
              "3     oIkPTooLcIbZKlF  0.545405\n",
              "4     eSKxsTTJDQzkjgD  0.544927\n",
              "...               ...       ...\n",
              "1645  BmSrWvzrriPuQOh  0.545902\n",
              "1646  HfXCITRCHqrLOda  0.545260\n",
              "1647  uQLYKtTCnvWWGVu  0.544764\n",
              "1648  gYWbwjUOZrOlTzQ  0.545179\n",
              "1649  esJzIdnRkHNVvjq  0.545163\n",
              "\n",
              "[1650 rows x 2 columns]"
            ]
          },
          "metadata": {
            "tags": []
          },
          "execution_count": 27
        }
      ]
    },
    {
      "cell_type": "code",
      "metadata": {
        "id": "YoLHRhTr8mhO"
      },
      "source": [
        "#### saving predictions\n",
        "EfficientNet_Unfreeze_test_preds.to_csv('efficientnet_unfreezed.csv', index = False)"
      ],
      "execution_count": 28,
      "outputs": []
    },
    {
      "cell_type": "markdown",
      "metadata": {
        "id": "wybyNFyx4A0W"
      },
      "source": [
        "### Conclusion \n",
        "- In conclusion, we have experimented on three different models to evaluate and conclude on the best model and performance. We face a little challenge, not necessarily challenge though but spending lots of time on the image processing to get it ready for the model. As a result of this we wrote a few python scripts as helper functions named `cnn_project_preprocess.py` to facilitate our experiments. \n",
        "- We trained the model on the `3,172` images and validated on `845` images. Our test data contained `1,650` images without labels to be determined by the trained model with prediction probabilities on the Zindi submission portal. We ran several experimented and as per the performance received from the submission portal we tried to beat it using different techniques. \n",
        "- We finally, consulted to transfer learning with the `EfficientNet` architecture. Compared to all models ran the transfer learning gave a better performance with the `logloss` evaluation metrics on the Zindi platform. \n",
        "\n",
        "- In conclusion the good score we got for the logloss is `0.68923783763495`."
      ]
    },
    {
      "cell_type": "code",
      "metadata": {
        "id": "bjIMg5q-6wKn"
      },
      "source": [
        ""
      ],
      "execution_count": null,
      "outputs": []
    }
  ]
}